{
  "nbformat": 4,
  "nbformat_minor": 0,
  "metadata": {
    "colab": {
      "provenance": []
    },
    "kernelspec": {
      "name": "python3",
      "display_name": "Python 3"
    },
    "language_info": {
      "name": "python"
    }
  },
  "cells": [
    {
      "cell_type": "markdown",
      "source": [
        "##THEORITICAL QUESTIONS"
      ],
      "metadata": {
        "id": "Rp5DJtgfgVml"
      }
    },
    {
      "cell_type": "markdown",
      "source": [
        "#QUE1: What is Object-Oriented Programming (OOP) ?\n",
        "#ANS:\n",
        "OOPS: It is a programming based on the concept of \"objects\" which can contain data and code.\n",
        "\n",
        "*Key Concepts of OOP*\n",
        "\n",
        "##Classes and Objects:\n",
        "\n",
        "- Class: A blueprint for creating objects. It defines attributes and methods.\n",
        "\n",
        "- Object: An instance of a class. It has its own state (data) and behavior (methods).\n",
        "\n",
        "##Encapsulation\n",
        "\n",
        "- Bundling data and methods that operate on that data within one unit (class).\n",
        "\n",
        "- It restricts direct access to some components, which helps prevent unintended interference and bugs.\n",
        "\n",
        "##Abstraction\n",
        "\n",
        "- Hiding complex implementation details and showing only the necessary features of an object.\n",
        "\n",
        "- It simplifies interaction with objects.\n",
        "\n",
        "##Inheritance\n",
        "\n",
        "- One class (child or subclass) can inherit attributes and methods from another class (parent or superclass).\n",
        "\n",
        "- Promotes code reuse.\n",
        "\n",
        "##Polymorphism\n",
        "\n",
        "- Objects of different classes can be treated as objects of a common superclass.\n",
        "\n",
        "- The same operation may behave differently on different classes.\n",
        "\n",
        "#QUE2: What is a class in OOP ?\n",
        "#ANS:\n",
        "In Object-Oriented Programming (OOP), a class is a blueprint or template used to create objects. It defines the structure and behavior that the created objects (instances) will have.\n",
        "\n",
        "*Key Features of a Class:*\n",
        "\n",
        "- Attributes (Data members): Variables that store the state of an object.\n",
        "\n",
        "- Methods (Functions inside a class): Define behavior or actions that an object can perform.\n",
        "\n",
        "- Constructor: A special method (like __init__ in Python or a class name method in Java/C++) used to initialize objects.\n",
        "\n",
        "#QUE3: What is an object in OOP ?\n",
        "#ANS:\n",
        "In Object-Oriented Programming (OOP), an object is an instance of a class. It represents a real-world entity and contains:\n",
        "\n",
        "- Attributes (data): What the object has.\n",
        "\n",
        "- Methods (functions): What the object can do.\n",
        "\n",
        "*IN OTHER WORDS*\n",
        "\n",
        "An object in OOP:\n",
        "\n",
        "- Is created from a class\n",
        "\n",
        "- Has its own data (state) and functions (behavior)\n",
        "\n",
        "- Can interact with other objects\n",
        "\n",
        "- Represents a real-world entity in your code\n",
        "\n",
        "#QUE4: What is the difference between abstraction and encapsulation ?\n",
        "#ANS:\n",
        "- Abstraction is the process of hiding the internal implementation details of a system and showing only the essential features to the user. It allows the programmer to focus on what an object does instead of how it does it. Abstraction simplifies complex systems by breaking them down into more manageable parts and exposing only what is necessary.\n",
        "\n",
        "- Encapsulation is the technique of wrapping data (variables) and code (methods) together into a single unit, typically a class, and restricting direct access to some of the object’s components. It is used to protect the internal state of an object and to control how outside code interacts with it.\n",
        "\n",
        "#QUE5: What are dunder methods in Python ?\n",
        "#ANS:\n",
        "Dunder methods (short for Double Underscore Methods) are special built-in methods in Python that have double underscores at the beginning and end of their names, like __init__, __str__, __len__, etc.\n",
        "\n",
        "*They are also called:*\n",
        "\n",
        "- Magic methods\n",
        "\n",
        "- Special methods\n",
        "\n",
        "*Purpose:*\n",
        "\n",
        "Dunder methods allow you to define how objects of your class behave with built-in Python operations — like printing, adding, comparing, indexing, and more.\n",
        "\n",
        "*TO KNOW ALL DUNDER METHODS YOU CAN USE THIS CODE:*\n",
        "\n",
        "dir(str)\n",
        "\n",
        "#QUE6: Explain the concept of inheritance in OOP ?\n",
        "#ANS:\n",
        "Inheritance is one of the core principles of OOP. It allows a class (called a child or subclass) to inherit properties and behaviors (i.e., attributes and methods) from another class (called a parent or superclass).\n",
        "\n",
        "*Key Idea:*\n",
        "\n",
        "Inheritance enables code reuse and models real-world relationships like “is-a.”\n",
        "\n",
        "*Types of Inheritance (in most OOP languages):*\n",
        "\n",
        "- Single Inheritance: Child inherits from one parent.\n",
        "\n",
        "- Multiple Inheritance: Child inherits from more than one parent.\n",
        "\n",
        "- Multilevel Inheritance: A class inherits from a class which itself inherits from another class.\n",
        "\n",
        "- Hierarchical Inheritance: Multiple child classes inherit from a single parent class.\n",
        "\n",
        "#QUE7:  What is polymorphism in OOP ?\n",
        "#ANS:\n",
        "Polymorphism comes from the Greek words “poly” (many) and “morph” (forms), meaning “many forms.”\n",
        "\n",
        "In OOP, polymorphism is the ability of different classes to respond to the same method name in different ways.\n",
        "\n",
        "It allows one interface to be used for a general class of actions, making the code more flexible and extensible.\n",
        "\n",
        "#QUE8: How is encapsulation achieved in Python ?\n",
        "#ANS:\n",
        "Encapsulation is the concept of restricting direct access to an object's internal data and methods and only allowing controlled access through public interfaces (usually methods). It helps protect the object’s state and maintains integrity by hiding implementation details.\n",
        "\n",
        "*IN OTHER WORDS*\n",
        "\n",
        "Encapsulation = Hiding internal data and exposing only what’s necessary.\n",
        "\n",
        "Achieved in Python using:\n",
        "\n",
        "- Private variables (__var)\n",
        "\n",
        "- Protected variables (_var)\n",
        "\n",
        "- Getter and Setter methods\n",
        "\n",
        "Protects data integrity and simplifies interface design.\n",
        "\n",
        "#QUE9: What is a constructor in Python ?\n",
        "#ANS:\n",
        "In Python, a constructor is a special method used to initialize an object when it is created from a class. It allows you to set up the initial state (attributes) of the object.\n",
        "\n",
        "*Summary:*\n",
        "\n",
        "- A constructor in Python is defined using __init__().\n",
        "\n",
        "- It sets up the initial state of an object.\n",
        "\n",
        "- It runs automatically when a new object is created.\n",
        "\n",
        "#QUE10: What are class and static methods in Python ?\n",
        "#ANS:\n",
        "Both are methods inside a class but differ in how they access data and how they are called.\n",
        "\n",
        "1. Class Methods\n",
        "\n",
        "- Defined with the decorator @classmethod.\n",
        "\n",
        "- The first parameter is cls, which refers to the class itself, not an instance.\n",
        "\n",
        "- Can access or modify class state (i.e., class variables).\n",
        "\n",
        "- Can be called on the class itself or on instances.\n",
        "\n",
        "2. Static Methods\n",
        "\n",
        "- Defined with the decorator @staticmethod.\n",
        "\n",
        "- Do not take self or cls as a parameter.\n",
        "\n",
        "- Behave like regular functions but live in the class’s namespace.\n",
        "\n",
        "- Cannot access or modify class or instance data.\n",
        "\n",
        "- Useful for utility functions related to the class.\n",
        "\n",
        "#QUE11: What is method overloading in Python ?\n",
        "#ANS:\n",
        "Method overloading refers to the ability to define multiple methods with the same name but different parameters (different type or number of arguments) within the same class.\n",
        "\n",
        "- In many languages like Java or C++, this is straightforward.\n",
        "\n",
        "- Python, however, does not support method overloading natively because it allows only one method with a given name in a class.\n",
        "\n",
        "#QUE12: What is method overriding in OOP ?\n",
        "#ANS:\n",
        "Method overriding occurs when a subclass (child class) provides a specific implementation of a method that is already defined in its superclass (parent class).\n",
        "\n",
        "- The method in the child class has the same name and signature as the one in the parent class.\n",
        "\n",
        "- When called on an object of the child class, the child’s version of the method is executed, effectively replacing the parent’s version.\n",
        "\n",
        "*Purpose:*\n",
        "\n",
        "- To modify or extend the behavior of inherited methods.\n",
        "\n",
        "- Supports runtime polymorphism, enabling objects to behave differently based on their actual class.\n",
        "\n",
        "#QUE13: What is a property decorator in Python ?\n",
        "#ANS:\n",
        "The @property decorator in Python is used to define a method in a class that can be accessed like an attribute. It allows you to create managed attributes — meaning you can control getting, setting, or deleting an attribute without changing how it is accessed externally.\n",
        "\n",
        "*Why use @property?*\n",
        "\n",
        "- To encapsulate instance variables.\n",
        "\n",
        "- To add logic when getting or setting a value.\n",
        "\n",
        "- To make your code cleaner and more Pythonic by avoiding explicit getter/setter method calls.\n",
        "\n",
        "#QUE14:  Why is polymorphism important in OOP ?\n",
        "#ANS:\n",
        "- Flexibility and Extensibility\n",
        "Polymorphism allows objects of different classes to be treated as objects of a common superclass. This lets you write flexible code that works with different types of objects without changing the code structure.\n",
        "\n",
        "- Code Reusability\n",
        "You can use the same interface (method name) to perform different tasks, reducing code duplication and promoting reuse.\n",
        "\n",
        "- Simplifies Code Maintenance\n",
        "When you add new classes with their own behavior, existing code that uses polymorphism usually doesn't need to be changed. This makes programs easier to maintain and extend.\n",
        "\n",
        "- Supports Dynamic Method Binding (Runtime Polymorphism)\n",
        "The decision about which method to call is made at runtime, enabling dynamic and intuitive behavior.\n",
        "\n",
        "- Improves Readability and Organization\n",
        "It helps organize code around common interfaces rather than specific implementations, making code more understandable.\n",
        "\n",
        "#QUE15:  What is an abstract class in Python ?\n",
        "#ANS:\n",
        "An abstract class is a class that cannot be instantiated directly and is designed to be a blueprint for other classes. It can contain one or more abstract methods, which are methods declared but without implementation. Subclasses must override these abstract methods to provide specific behavior.\n",
        "\n",
        "*Why use Abstract Classes?*\n",
        "\n",
        "- To define a common interface for a group of related classes.\n",
        "\n",
        "- To enforce that certain methods must be implemented in subclasses.\n",
        "\n",
        "- To provide partial implementation shared across subclasses.\n",
        "\n",
        "#QUE16: What are the advantages of OOP ?\n",
        "#ANS:\n",
        "- Modularity\n",
        "Code is organized into self-contained objects, making it easier to manage, understand, and debug.\n",
        "\n",
        "- Reusability\n",
        "Through inheritance, existing classes can be reused to create new classes, saving development time and effort.\n",
        "\n",
        "- Scalability and Maintainability\n",
        "OOP systems can be easily extended or modified without affecting other parts of the system, supporting long-term maintenance.\n",
        "\n",
        "- Data Encapsulation and Security\n",
        "Encapsulation hides internal object details and exposes only what is necessary, protecting data from unauthorized access and misuse.\n",
        "\n",
        "- Flexibility through Polymorphism\n",
        "The same interface can represent different underlying forms (data types), allowing flexible and interchangeable objects.\n",
        "\n",
        "- Improved Productivity\n",
        "Code reuse, modularity, and abstraction make development faster and reduce errors.\n",
        "\n",
        "- Real-World Modeling\n",
        "Objects map closely to real-world entities, making designs more intuitive and easier to conceptualize.\n",
        "\n",
        "#QUE17: What is the difference between a class variable and an instance variable ?\n",
        "#ANS:\n",
        "1. Class Variable\n",
        "- A class variable is a variable that is shared among all instances of a class. It is defined within the class but outside any instance methods. Since it belongs to the class itself, any change made to a class variable is reflected across all instances of that class.\n",
        "\n",
        "2. Instance Variable\n",
        "- An instance variable is a variable that is specific to each object (instance) of the class. It is usually defined inside the constructor (__init__ method) using the self keyword. Each object maintains its own copy of instance variables, meaning changes to one object’s instance variable do not affect others.\n",
        "\n",
        "#QUE18: What is multiple inheritance in Python ?\n",
        "#ANS:\n",
        "Multiple inheritance is a feature in Python where a class can inherit from more than one parent class. This allows the child class to access attributes and methods from multiple classes, combining their functionality.\n",
        "\n",
        "*SYNTAX*\n",
        "\n",
        "class Parent1:\n",
        "\n",
        "code for parent1\n",
        "\n",
        "class Parent2:\n",
        "\n",
        "code for parent2\n",
        "\n",
        "class Child(Parent1, Parent2):\n",
        "\n",
        "inherits from both Parent1 and Parent2\n",
        "\n",
        "#QUE19: Explain the purpose of ‘’__str__’ and ‘__repr__’ ‘ methods in Python ?\n",
        "#ANS:\n",
        "In Python, __str__() and __repr__() are special (dunder) methods used to define how an object should be represented as a string. They are especially useful for debugging and displaying objects in a readable way.\n",
        "\n",
        "1. __str__() → User-Friendly String Representation\n",
        "\n",
        "- Called by the built-in str() function or when you use print(object).\n",
        "\n",
        "- Should return a readable, nicely formatted string meant for end users.\n",
        "\n",
        "- Used for displaying object information in a clean way.\n",
        "\n",
        "2. __repr__() → Developer-Friendly Representation\n",
        "\n",
        "- Called by the built-in repr() function or when inspecting objects in the console.\n",
        "\n",
        "- Should return a string that is unambiguous and ideally valid Python code.\n",
        "\n",
        "- Meant for developers and debugging purposes.\n",
        "\n",
        "3. If Only __repr__() is Defined:\n",
        "\n",
        "- If __str__() is not defined, Python will use __repr__() as a fallback for print().\n",
        "\n",
        "#QUE20: What is the significance of the ‘super()’ function in Python ?\n",
        "#ANS:\n",
        "The super() function in Python is used to call methods from a parent (superclass) inside a child (subclass). It gives you access to inherited methods without explicitly referring to the parent class by name.\n",
        "\n",
        "*Why is super() important?*\n",
        "\n",
        "# Avoids hardcoding the parent class name\n",
        "\n",
        "- Makes code more flexible and maintainable.\n",
        "\n",
        "# Supports multiple inheritance\n",
        "\n",
        "- Python uses Method Resolution Order (MRO) with super() to decide which method to call, avoiding conflicts in complex inheritance trees.\n",
        "\n",
        "# Allows extending parent methods\n",
        "\n",
        "- Enables child classes to reuse and enhance parent functionality instead of completely overriding it.\n",
        "\n",
        "#QUE21: What is the significance of the __del__ method in Python ?\n",
        "#ANS:\n",
        "##What is __del__()?\n",
        "\n",
        "- The __del__() method is a special (dunder) method in Python called a destructor.\n",
        "\n",
        "- It is automatically invoked when an object is about to be destroyed (i.e., garbage collected).\n",
        "\n",
        "##Its main purpose is to allow the object to clean up resources, such as:\n",
        "\n",
        "- Closing files\n",
        "\n",
        "- Releasing network or database connections\n",
        "\n",
        "- Logging destruction events\n",
        "\n",
        "*Why is it significant?*\n",
        "\n",
        "- Resource Cleanup\n",
        "Frees up non-memory resources (like open files or sockets) before the object is removed from memory.\n",
        "\n",
        "- Debugging and Logging\n",
        "Can be used to log or trace when objects are deleted, helpful in complex applications.\n",
        "\n",
        "- Acts as a Destructor\n",
        "Similar to destructors in languages like C++ — but Python uses garbage collection, so it's not always guaranteed when __del__() will be called.\n",
        "\n",
        "#QUE22: What is the difference between @staticmethod and @classmethod in Python ?\n",
        "#ANS:\n",
        "1. @staticmethod\n",
        "\n",
        "- Does not take self or cls as the first argument.\n",
        "\n",
        "- Cannot access or modify instance or class-level data.\n",
        "\n",
        "- Behaves like a regular function, but is included inside the class for organizational purposes.\n",
        "\n",
        "- Used for utility functions that are related to the class, but don't need class or instance data.\n",
        "\n",
        "2. @classmethod\n",
        "\n",
        "- Takes cls (the class itself) as the first parameter.\n",
        "\n",
        "- Can access or modify class variables and call other class methods.\n",
        "\n",
        "- Useful for factory methods or operations that apply to the class, not the instance.\n",
        "\n",
        "#QUE23: How does polymorphism work in Python with inheritance ?\n",
        "#ANS:\n",
        "Polymorphism in Python means \"many forms.\" It allows objects of different classes to be treated as objects of a common superclass, especially when they share the same method name.\n",
        "\n",
        "*How It Works with Inheritance:*\n",
        "\n",
        "In Python, polymorphism is commonly achieved through method overriding in class inheritance.\n",
        "\n",
        "- A base class defines a method.\n",
        "\n",
        "- Subclasses override that method with their own implementation.\n",
        "\n",
        "- You can call the same method on objects of different classes, and Python will decide at runtime which version to execute — this is runtime polymorphism.\n",
        "\n",
        "*Polymorphism with inheritance allows you to:*\n",
        "\n",
        "- Define a common interface in a base class,\n",
        "\n",
        "- Implement custom behavior in derived classes,\n",
        "\n",
        "- Use code that can operate on objects of different types without modification.\n",
        "\n",
        "#QUE24: What is method chaining in Python OOP ?\n",
        "#ANS:\n",
        "Method chaining is a programming technique where multiple methods are called sequentially on the same object, in a single line of code.\n",
        "In Python, this is typically done by having each method return self (the instance itself).\n",
        "\n",
        "*Why Use Method Chaining?*\n",
        "\n",
        "- Makes code more concise and readable.\n",
        "\n",
        "- Encourages fluent interfaces, where the method calls read like a sentence.\n",
        "\n",
        "- Useful in scenarios where you're configuring or modifying an object step-by-step.\n",
        "\n",
        "#QUE25:  What is the purpose of the __call__ method in Python ?\n",
        "#ANS:\n",
        "In Python, the __call__() method allows an object to be called like a function.\n",
        "\n",
        "If a class defines the __call__() method, its instances can be \"called\" using parentheses, just like functions.\n",
        "\n",
        "*Why Use __call__()?*\n",
        "\n",
        "- To make objects behave like functions.\n",
        "\n",
        "*Useful in:*\n",
        "\n",
        "- Function wrappers or decorators\n",
        "\n",
        "- Callable classes that need to maintain internal state\n",
        "\n",
        "- Custom behaviors when an object is \"invoked\"\n",
        "\n",
        "\n"
      ],
      "metadata": {
        "id": "3WAMlEnEgbUL"
      }
    },
    {
      "cell_type": "markdown",
      "source": [
        "##PRACTICAL QUESTIONS"
      ],
      "metadata": {
        "id": "nIzEWsMH5hEb"
      }
    },
    {
      "cell_type": "code",
      "source": [
        "#QUE1:  Create a parent class Animal with a method speak() that prints a generic message. Create a child class Dog that overrides the speak() method to print \"Bark!\" ?\n",
        "#ANS:\n",
        "class Animal:\n",
        "    def speak(self):\n",
        "        print(\"Generic animal sound\")\n",
        "\n",
        "class Dog(Animal):\n",
        "    def speak(self):\n",
        "        print(\"Bark!\")\n",
        "obj1 = Animal()\n",
        "obj1.speak()\n",
        "obj2 = Dog()\n",
        "obj2.speak()"
      ],
      "metadata": {
        "colab": {
          "base_uri": "https://localhost:8080/"
        },
        "id": "7x7GYEEY5ti-",
        "outputId": "cd0d799e-0bb2-4fc0-93ee-f6904330379d"
      },
      "execution_count": 8,
      "outputs": [
        {
          "output_type": "stream",
          "name": "stdout",
          "text": [
            "Generic animal sound\n",
            "Bark!\n"
          ]
        }
      ]
    },
    {
      "cell_type": "code",
      "source": [
        "#QUE2: Write a program to create an abstract class Shape with a method area(). Derive classes Circle and Rectangle from it and implement the area() method in both ?\n",
        "#ANS:\n",
        "class Shape:\n",
        "    def area(self):\n",
        "        pass\n",
        "\n",
        "class Circle(Shape):\n",
        "    def __init__(self, radius):\n",
        "        self.radius = radius\n",
        "\n",
        "    def area(self):\n",
        "        return 3.14 * self.radius * self.radius\n",
        "\n",
        "class Rectangle(Shape):\n",
        "    def __init__(self, width, height):\n",
        "        self.width = width\n",
        "        self.height = height\n",
        "\n",
        "    def area(self):\n",
        "        return self.width * self.height\n",
        "\n",
        "# Example usage\n",
        "c = Circle(5)\n",
        "r = Rectangle(4, 6)\n",
        "\n",
        "print(\"Area of Circle:\", c.area())\n",
        "print(\"Area of Rectangle:\", r.area())\n",
        "\n",
        "\n",
        ""
      ],
      "metadata": {
        "colab": {
          "base_uri": "https://localhost:8080/"
        },
        "id": "Y_VbpsU96SKf",
        "outputId": "32410c3c-deb2-442a-c2b0-44942ec443b5"
      },
      "execution_count": 20,
      "outputs": [
        {
          "output_type": "stream",
          "name": "stdout",
          "text": [
            "Area of Circle: 78.5\n",
            "Area of Rectangle: 24\n"
          ]
        }
      ]
    },
    {
      "cell_type": "code",
      "source": [
        "#QUE3: Implement a multi-level inheritance scenario where a class Vehicle has an attribute type. Derive a class Car and further derive a class ElectricCar that adds a battery attribute ?\n",
        "#ANS:\n",
        "# Base class\n",
        "class Vehicle:\n",
        "    def __init__(self):\n",
        "        self.type = \"Four Wheeler\"\n",
        "\n",
        "# First-level derived class\n",
        "class Car(Vehicle):\n",
        "    def __init__(self):\n",
        "        Vehicle.__init__(self)\n",
        "        self.brand = \"Toyota Supra\"\n",
        "\n",
        "# Second-level derived class\n",
        "class JDMCar(Car):\n",
        "    def __init__(self):\n",
        "        Car.__init__(self)\n",
        "        self.speed = \"190 km/h\"\n",
        "\n",
        "    def show_info(self):\n",
        "        print(\"Vehicle Type:\", self.type)\n",
        "        print(\"Car Brand:\", self.brand)\n",
        "        print(\"Top speed:\", self.speed)\n",
        "\n",
        "# Create object and display info\n",
        "car1 = JDMCar()\n",
        "car1.show_info()\n"
      ],
      "metadata": {
        "colab": {
          "base_uri": "https://localhost:8080/"
        },
        "id": "euFt1p249SPe",
        "outputId": "0364c2d3-cbd3-48a2-9472-23c41c967618"
      },
      "execution_count": 24,
      "outputs": [
        {
          "output_type": "stream",
          "name": "stdout",
          "text": [
            "Vehicle Type: Four Wheeler\n",
            "Car Brand: Toyota Supra\n",
            "Top speed: 190 km/h\n"
          ]
        }
      ]
    },
    {
      "cell_type": "code",
      "source": [
        "#QUE4: Demonstrate polymorphism by creating a base class Bird with a method fly(). Create two derived classes Sparrow and Penguin that override the fly() method ?\n",
        "#ANS:\n",
        "class Bird:\n",
        "    def fly(self):\n",
        "        print(\"Bird is flying\")\n",
        "\n",
        "class Sparrow(Bird):\n",
        "    def fly(self):\n",
        "        print(\"Sparrow can fly high!\")\n",
        "\n",
        "class Penguin(Bird):\n",
        "    def fly(self):\n",
        "        print(\"Penguins cannot fly.\")\n",
        "\n",
        "def show_flight(bird):\n",
        "    bird.fly()\n",
        "\n",
        "bird1 = Sparrow()\n",
        "bird2 = Penguin()\n",
        "\n",
        "show_flight(bird1)\n",
        "show_flight(bird2)\n",
        "\n",
        "\n"
      ],
      "metadata": {
        "colab": {
          "base_uri": "https://localhost:8080/"
        },
        "id": "lL52GHQI-abU",
        "outputId": "d3856eb8-ecf4-4cea-95df-a2f07d97c770"
      },
      "execution_count": 26,
      "outputs": [
        {
          "output_type": "stream",
          "name": "stdout",
          "text": [
            "Sparrow can fly high!\n",
            "Penguins cannot fly.\n"
          ]
        }
      ]
    },
    {
      "cell_type": "code",
      "source": [
        "#QUE5: Write a program to demonstrate encapsulation by creating a class BankAccount with private attributes balance and methods to deposit, withdraw, and check balance ?\n",
        "#ANS:\n",
        "class BankAccount:\n",
        "    def __init__(self):\n",
        "        self.__balance = 0\n",
        "\n",
        "    def deposit(self, amount):\n",
        "        if amount > 0:\n",
        "            self.__balance += amount\n",
        "            print(f\"Deposited: {amount}\")\n",
        "        else:\n",
        "            print(\"Invalid deposit amount\")\n",
        "\n",
        "    def withdraw(self, amount):\n",
        "        if amount <= self.__balance:\n",
        "            self.__balance -= amount\n",
        "            print(f\"Withdrawn: {amount}\")\n",
        "        else:\n",
        "            print(\"Insufficient balance\")\n",
        "\n",
        "    def check_balance(self):\n",
        "        print(f\"Current Balance: {self.__balance}\")\n",
        "\n",
        "# Example usage\n",
        "account = BankAccount()\n",
        "\n",
        "account.deposit(1000)\n",
        "account.withdraw(500)\n",
        "account.check_balance()\n",
        "account.withdraw(600)\n",
        "account.check_balance()\n",
        "\n"
      ],
      "metadata": {
        "colab": {
          "base_uri": "https://localhost:8080/"
        },
        "id": "d6idfSXS_C_8",
        "outputId": "f6a1bbda-262f-4e5b-f8c0-dd138c3396a7"
      },
      "execution_count": 29,
      "outputs": [
        {
          "output_type": "stream",
          "name": "stdout",
          "text": [
            "Deposited: 1000\n",
            "Withdrawn: 500\n",
            "Current Balance: 500\n",
            "Insufficient balance\n",
            "Current Balance: 500\n"
          ]
        }
      ]
    },
    {
      "cell_type": "code",
      "source": [
        "#QUE6: Demonstrate runtime polymorphism using a method play() in a base class Instrument. Derive classes Guitar and Piano that implement their own version of play() ?\n",
        "#ANS:\n",
        "class Instrument:\n",
        "    def play(self):\n",
        "        print(\"Playing an instrument\")\n",
        "\n",
        "class Guitar(Instrument):\n",
        "    def play(self):\n",
        "        print(\"Strumming the guitar\")\n",
        "\n",
        "class Piano(Instrument):\n",
        "    def play(self):\n",
        "        print(\"Playing the piano\")\n",
        "\n",
        "def start_playing(instrument):\n",
        "    instrument.play()\n",
        "\n",
        "g = Guitar()\n",
        "p = Piano()\n",
        "\n",
        "start_playing(g)\n",
        "start_playing(p)\n"
      ],
      "metadata": {
        "colab": {
          "base_uri": "https://localhost:8080/"
        },
        "id": "gIqf1qq5_9Yl",
        "outputId": "6789e211-62d0-4047-b7bc-8894ec8d171c"
      },
      "execution_count": 33,
      "outputs": [
        {
          "output_type": "stream",
          "name": "stdout",
          "text": [
            "Strumming the guitar\n",
            "Playing the piano\n"
          ]
        }
      ]
    },
    {
      "cell_type": "code",
      "source": [
        "#QUE7: Create a class MathOperations with a class method add_numbers() to add two numbers and a static method subtract_numbers() to subtract two numbers ?\n",
        "#ANS:\n",
        "class MathOperations:\n",
        "    @classmethod\n",
        "    def add_numbers(cls, a, b):\n",
        "        return a + b\n",
        "\n",
        "    @staticmethod\n",
        "    def subtract_numbers(a, b):\n",
        "        return a - b\n",
        "\n",
        "# Example usage\n",
        "sum_result = MathOperations.add_numbers(5, 2)\n",
        "sub_result = MathOperations.subtract_numbers(10, 3)\n",
        "\n",
        "print(\"Addition Result:\", sum_result)\n",
        "print(\"Subtraction Result:\", sub_result)\n",
        "\n"
      ],
      "metadata": {
        "colab": {
          "base_uri": "https://localhost:8080/"
        },
        "id": "gIIRS-pvAfok",
        "outputId": "a6498f7b-82f4-45a9-aaa1-d6002a9c0b63"
      },
      "execution_count": 41,
      "outputs": [
        {
          "output_type": "stream",
          "name": "stdout",
          "text": [
            "Addition Result: 7\n",
            "Subtraction Result: 7\n"
          ]
        }
      ]
    },
    {
      "cell_type": "code",
      "source": [
        "#QUE8: Implement a class Person with a class method to count the total number of persons created ?\n",
        "#ANS:\n",
        "class Person:\n",
        "    count = 0\n",
        "\n",
        "    def __init__(self, name):\n",
        "        self.name = name\n",
        "        Person.count += 1\n",
        "\n",
        "    @classmethod\n",
        "    def total_persons(cls):\n",
        "        print(\"Total persons created:\", cls.count)\n",
        "\n",
        "p1 = Person(\"Alice\")\n",
        "p2 = Person(\"Bob\")\n",
        "p3 = Person(\"Charlie\")\n",
        "\n",
        "Person.total_persons()\n"
      ],
      "metadata": {
        "colab": {
          "base_uri": "https://localhost:8080/"
        },
        "id": "R9aLBo1kBJUq",
        "outputId": "0ac0be89-1d97-4ccf-8a89-34bd466349d6"
      },
      "execution_count": 43,
      "outputs": [
        {
          "output_type": "stream",
          "name": "stdout",
          "text": [
            "Total persons created: 3\n"
          ]
        }
      ]
    },
    {
      "cell_type": "code",
      "source": [
        "#QUE9: Write a class Fraction with attributes numerator and denominator. Override the str method to display the fraction as \"numerator/denominator\" ?\n",
        "#ANS:\n",
        "class Fraction:\n",
        "    def __init__(self, numerator, denominator):\n",
        "        self.numerator = numerator\n",
        "        self.denominator = denominator\n",
        "\n",
        "    def __str__(self):\n",
        "        return f\"{self.numerator}/{self.denominator}\"\n",
        "\n",
        "# Example usage\n",
        "f1 = Fraction(3, 4)\n",
        "f2 = Fraction(5, 2)\n",
        "\n",
        "print(\"Fraction 1:\", f1)\n",
        "print(\"Fraction 2:\", f2)\n"
      ],
      "metadata": {
        "colab": {
          "base_uri": "https://localhost:8080/"
        },
        "id": "WWfPElIrBi63",
        "outputId": "541ca4de-3b0e-410a-8f78-25e774b178a8"
      },
      "execution_count": 45,
      "outputs": [
        {
          "output_type": "stream",
          "name": "stdout",
          "text": [
            "Fraction 1: 3/4\n",
            "Fraction 2: 5/2\n"
          ]
        }
      ]
    },
    {
      "cell_type": "code",
      "source": [
        "#QUE10:  Demonstrate operator overloading by creating a class Vector and overriding the add method to add two vectors ?\n",
        "#ANS:\n",
        "class Vector:\n",
        "    def __init__(self, x, y):\n",
        "        self.x = x\n",
        "        self.y = y\n",
        "\n",
        "    def __add__(self, other):\n",
        "        return Vector(self.x + other.x, self.y + other.y)\n",
        "\n",
        "    def __str__(self):\n",
        "      return f\"({self.x}, {self.y})\"\n",
        "\n",
        "v1 = Vector(2,3)\n",
        "v2 = Vector(4,5)\n",
        "v3 = v1 + v2\n",
        "print(\"Vector 1: \" , v1)\n",
        "print(\"Vector 2: \" , v2)\n",
        "print(\"sum Vector: \" , v3)"
      ],
      "metadata": {
        "colab": {
          "base_uri": "https://localhost:8080/"
        },
        "id": "tXyUFXEcB_jI",
        "outputId": "5d4b8501-9eee-4f6d-97a8-43ab81f10c8e"
      },
      "execution_count": 54,
      "outputs": [
        {
          "output_type": "stream",
          "name": "stdout",
          "text": [
            "Vector 1:  (2, 3)\n",
            "Vector 2:  (4, 5)\n",
            "sum Vector:  (6, 8)\n"
          ]
        }
      ]
    },
    {
      "cell_type": "code",
      "source": [
        "#QUE11: Create a class Person with attributes name and age. Add a method greet() that prints \"Hello, my name is {name} and I am {age} years old.\" ?\n",
        "#ANS:\n",
        "class Person:\n",
        "    def __init__(self, name, age):\n",
        "        self.name = name\n",
        "        self.age = age\n",
        "\n",
        "    def greet(self):\n",
        "        print(f\"Hello, my name is {self.name} and I am {self.age} years old.\")\n",
        "\n",
        "p1 = Person(\"Alice\", 25)\n",
        "p2 = Person(\"Bob\", 30)\n",
        "\n",
        "p1.greet()\n",
        "p2.greet()\n",
        "\n"
      ],
      "metadata": {
        "colab": {
          "base_uri": "https://localhost:8080/"
        },
        "id": "LFot7YprDL55",
        "outputId": "a6d7e1ce-5a38-438b-885c-5f4e5efb2e29"
      },
      "execution_count": 56,
      "outputs": [
        {
          "output_type": "stream",
          "name": "stdout",
          "text": [
            "Hello, my name is Alice and I am 25 years old.\n",
            "Hello, my name is Bob and I am 30 years old.\n"
          ]
        }
      ]
    },
    {
      "cell_type": "code",
      "source": [
        "#QUE12: Implement a class Student with attributes name and grades. Create a method average_grade() to compute the average of the grades ?\n",
        "#ANS:\n",
        "class Student:\n",
        "    def __init__(self, name, grades):\n",
        "        self.name = name\n",
        "        self.grades = grades\n",
        "\n",
        "    def average_grade(self):\n",
        "        if len(self.grades) == 0:\n",
        "            return 0\n",
        "        return sum(self.grades) / len(self.grades)\n",
        "\n",
        "s1 = Student(\"Alice\", [85, 90, 78])\n",
        "s2 = Student(\"Bob\", [70, 75, 80, 85])\n",
        "\n",
        "print(f\"{s1.name}'s average grade: {s1.average_grade():.2f}\")\n",
        "print(f\"{s2.name}'s average grade: {s2.average_grade():.2f}\")\n"
      ],
      "metadata": {
        "colab": {
          "base_uri": "https://localhost:8080/"
        },
        "id": "r-ebtUg-SyO4",
        "outputId": "52c53a47-da3b-49cc-fce3-aa267aebc2b3"
      },
      "execution_count": 65,
      "outputs": [
        {
          "output_type": "stream",
          "name": "stdout",
          "text": [
            "Alice's average grade: 84.33\n",
            "Bob's average grade: 77.50\n"
          ]
        }
      ]
    },
    {
      "cell_type": "code",
      "source": [
        "#QUE13: Create a class Rectangle with methods set_dimensions() to set the dimensions and area() to calculate the area ?\n",
        "#ANS:\n",
        "class Rectangle():\n",
        "    def __init__(self):\n",
        "     self.length = 0\n",
        "     self.width = 0\n",
        "\n",
        "    def set_dimensions(self, length, width):\n",
        "      self.length = length\n",
        "      self.width = width\n",
        "\n",
        "    def area(self):\n",
        "     return self.length * self.width\n",
        "    print(\"Area of Rectangle:\", rect.area())\n",
        "\n",
        "rec = Rectangle()\n",
        "rect.set_dimensions(5, 3)\n"
      ],
      "metadata": {
        "colab": {
          "base_uri": "https://localhost:8080/"
        },
        "id": "9kyBcAFpT7dh",
        "outputId": "12b47fb5-5cd4-45ff-f97d-099c23009c7b"
      },
      "execution_count": 87,
      "outputs": [
        {
          "output_type": "stream",
          "name": "stdout",
          "text": [
            "Area of Rectangle: 15\n"
          ]
        }
      ]
    },
    {
      "cell_type": "code",
      "source": [
        "#QUE14: Create a class Employee with a method calculate_salary() that computes the salary based on hours worked and hourly rate. Create a derived class Manager that adds a bonus to the salary ?\n",
        "#ANS:\n",
        "class Employee:\n",
        "    def __init__(self, name, hours_worked, hourly_rate):\n",
        "        self.name = name\n",
        "        self.hours_worked = hours_worked\n",
        "        self.hourly_rate = hourly_rate\n",
        "\n",
        "    def calculate_salary(self):\n",
        "        return self.hours_worked * self.hourly_rate\n",
        "\n",
        "class Manager(Employee):\n",
        "    def __init__(self, name, hours_worked, hourly_rate, bonus):\n",
        "        super().__init__(name, hours_worked, hourly_rate)\n",
        "        self.bonus = bonus\n",
        "\n",
        "    def calculate_salary(self):\n",
        "        base_salary = super().calculate_salary()\n",
        "        return base_salary + self.bonus\n",
        "\n",
        "# Example usage\n",
        "emp = Employee(\"Shreyansh\", 40, 20)\n",
        "mgr = Manager(\"Yansh\", 40, 30, 500)\n",
        "\n",
        "print(f\"{emp.name}'s salary: {emp.calculate_salary()}\")\n",
        "print(f\"{mgr.name}'s salary: {mgr.calculate_salary()}\")\n"
      ],
      "metadata": {
        "colab": {
          "base_uri": "https://localhost:8080/"
        },
        "id": "NT4z1uDDWTKQ",
        "outputId": "f0823cc8-60e7-44d9-91b6-51c4e54c37da"
      },
      "execution_count": 96,
      "outputs": [
        {
          "output_type": "stream",
          "name": "stdout",
          "text": [
            "Shreyansh's salary: 800\n",
            "Yansh's salary: 1700\n"
          ]
        }
      ]
    },
    {
      "cell_type": "code",
      "source": [
        "#QUE15:  Create a class Product with attributes name, price, and quantity. Implement a method total_price() that calculates the total price of the product ?\n",
        "#ANS:\n",
        "class Product:\n",
        "    def __init__(self, name, price, quantity):\n",
        "        self.name = name\n",
        "        self.price = price\n",
        "        self.quantity = quantity\n",
        "\n",
        "    def total_price(self):\n",
        "        return self.price * self.quantity\n",
        "\n",
        "p1 = Product(\"Laptop\", 40000, 2)\n",
        "p2 = Product(\"Earphone\", 3000, 3)\n",
        "\n",
        "print(f\"Total price of {p1.name}: {p1.total_price()}\")\n",
        "print(f\"Total price of {p2.name}: {p2.total_price()}\")"
      ],
      "metadata": {
        "colab": {
          "base_uri": "https://localhost:8080/"
        },
        "id": "8TaozCOCYZw7",
        "outputId": "137079d1-b03b-488d-c62d-e5ba6978d049"
      },
      "execution_count": 100,
      "outputs": [
        {
          "output_type": "stream",
          "name": "stdout",
          "text": [
            "Total price of Laptop: 80000\n",
            "Total price of Earphone: 9000\n"
          ]
        }
      ]
    },
    {
      "cell_type": "code",
      "source": [
        "#QUE15: Create a class Animal with an abstract method sound(). Create two derived classes Cow and Sheep that implement the sound() method ?\n",
        "#ANS:\n",
        "class Animal(ABC):\n",
        "    @abstractmethod\n",
        "    def sound(self):\n",
        "        pass\n",
        "\n",
        "class Cow(Animal):\n",
        "    def sound(self):\n",
        "        print(\"Cow says Moo\")\n",
        "\n",
        "class Sheep(Animal):\n",
        "    def sound(self):\n",
        "        print(\"Sheep says Baa\")\n",
        "\n",
        "# Example usage\n",
        "c = Cow()\n",
        "s = Sheep()\n",
        "\n",
        "c.sound()\n",
        "s.sound()\n"
      ],
      "metadata": {
        "colab": {
          "base_uri": "https://localhost:8080/"
        },
        "id": "VrogkGELZCMQ",
        "outputId": "edcc91d3-d62e-4c91-d28a-bdcf969aad9f"
      },
      "execution_count": 102,
      "outputs": [
        {
          "output_type": "stream",
          "name": "stdout",
          "text": [
            "Cow says Moo\n",
            "Sheep says Baa\n"
          ]
        }
      ]
    },
    {
      "cell_type": "code",
      "source": [
        "#QUE17: Create a class Book with attributes title, author, and year_published. Add a method get_book_info() that returns a formatted string with the book's details ?\n",
        "#ANS:\n",
        "class book():\n",
        "  def __init__(self, title, author, year_published):\n",
        "    self.title = title\n",
        "    self.author = author\n",
        "    self.year_published = year_published\n",
        "\n",
        "  def get_book_info(self):\n",
        "    return f\"title: {self.title}\\nauthor: {self.author}\\nyear published: {self.year_published}\"\n",
        "\n",
        "book1 = book(\"The Alchemist\", \"Paulo Coelho\", 1988)\n",
        "book2 = book(\"To Kill a Mockingbird\", \"Harper Lee\", 1960)\n",
        "\n",
        "print(book1.get_book_info())\n",
        "print()\n",
        "print(book2.get_book_info())\n"
      ],
      "metadata": {
        "colab": {
          "base_uri": "https://localhost:8080/"
        },
        "id": "AeXNpOQGZXTs",
        "outputId": "11659d36-c172-48cb-dbf4-3cb1137d8dc2"
      },
      "execution_count": 113,
      "outputs": [
        {
          "output_type": "stream",
          "name": "stdout",
          "text": [
            "title: The Alchemist\n",
            "author: Paulo Coelho\n",
            "year published: 1988\n",
            "\n",
            "title: To Kill a Mockingbird\n",
            "author: Harper Lee\n",
            "year published: 1960\n"
          ]
        }
      ]
    },
    {
      "cell_type": "code",
      "source": [
        "#QUE18: Create a class House with attributes address and price. Create a derived class Mansion that adds an attribute number_of_rooms ?\n",
        "#ANS:\n",
        "class House:\n",
        "    def __init__ (self, address, price):\n",
        "      self.address = address\n",
        "      self.price = price\n",
        "\n",
        "class mansion(House):\n",
        "    def __init__ (self, address, price, number_of_rooms):\n",
        "      super().__init__(address, price)\n",
        "      self.number_of_rooms = number_of_rooms\n",
        "\n",
        "    def show_details(self):\n",
        "      print(\"Address: \", self.address)\n",
        "      print(\"Price: \", self.price)\n",
        "      print(\"Number of rooms: \", self.number_of_rooms)\n",
        "\n",
        "m = mansion(\"123, Chandralok colony\", 3500000, 4)\n",
        "m.show_details()\n"
      ],
      "metadata": {
        "colab": {
          "base_uri": "https://localhost:8080/"
        },
        "id": "ZMOqa4owbu6O",
        "outputId": "7ca371a5-c8fb-4338-c854-e1ce57e3ba19"
      },
      "execution_count": 114,
      "outputs": [
        {
          "output_type": "stream",
          "name": "stdout",
          "text": [
            "Address:  123, Chandralok colony\n",
            "Price:  3500000\n",
            "Number of rooms:  4\n"
          ]
        }
      ]
    }
  ]
}